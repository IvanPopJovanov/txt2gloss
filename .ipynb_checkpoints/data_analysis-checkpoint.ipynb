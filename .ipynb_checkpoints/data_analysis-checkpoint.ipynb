{
 "cells": [
  {
   "cell_type": "code",
   "execution_count": 1,
   "id": "785703eb",
   "metadata": {},
   "outputs": [],
   "source": [
    "import numpy as np\n",
    "import pandas as pd\n",
    "import tensorflow as tf\n",
    "from matplotlib import pyplot as plt"
   ]
  },
  {
   "cell_type": "code",
   "execution_count": 3,
   "id": "5ef157b9",
   "metadata": {},
   "outputs": [],
   "source": [
    "df_train = pd.read_csv('data/PHOENIX-2014-T.train.corpus.csv', sep='|')\n",
    "df_train.drop(columns=['name','video','start','end','speaker'], inplace = True)\n",
    "train_size = df_train.shape[0]\n",
    "#Orth je glossovana recenica, translation je originalna engleska\n",
    "\n",
    "df_val = pd.read_csv('data/PHOENIX-2014-T.dev.corpus.csv', sep = '|')\n",
    "df_val.drop(columns = ['name', 'video', 'start', 'end', 'speaker'], inplace = True)\n",
    "val_size = df_val.shape[0]\n",
    "\n",
    "df_test = pd.read_csv('data/PHOENIX-2014-T.test.corpus.csv', sep = '|')\n",
    "df_test.drop(columns = ['name', 'video', 'start', 'end', 'speaker'], inplace = True)\n",
    "test_size = df_test.shape[0]"
   ]
  },
  {
   "cell_type": "code",
   "execution_count": 5,
   "id": "80ddaec4",
   "metadata": {},
   "outputs": [
    {
     "name": "stdout",
     "output_type": "stream",
     "text": [
      "(7096, 2)\n",
      "(519, 2)\n",
      "(642, 2)\n"
     ]
    }
   ],
   "source": [
    "print(df_train.shape)\n",
    "print(df_val.shape)\n",
    "print(df_test.shape)"
   ]
  },
  {
   "cell_type": "markdown",
   "id": "884c66f2",
   "metadata": {},
   "source": [
    "### Primeri\n",
    "\n",
    "primeri prevoda i originalne recenice\n"
   ]
  },
  {
   "cell_type": "code",
   "execution_count": 8,
   "id": "31311be5",
   "metadata": {},
   "outputs": [
    {
     "data": {
      "text/plain": [
       "'mancherorts regnet es auch länger und ergiebig auch lokale überschwemmungen sind wieder möglich'"
      ]
     },
     "execution_count": 8,
     "metadata": {},
     "output_type": "execute_result"
    }
   ],
   "source": [
    "df_train.iloc[1]['translation']"
   ]
  },
  {
   "cell_type": "code",
   "execution_count": 7,
   "id": "2305324f",
   "metadata": {
    "scrolled": true
   },
   "outputs": [
    {
     "data": {
      "text/plain": [
       "'ORT REGEN DURCH REGEN KOENNEN UEBERSCHWEMMUNG KOENNEN'"
      ]
     },
     "execution_count": 7,
     "metadata": {},
     "output_type": "execute_result"
    }
   ],
   "source": [
    "df_train.iloc[1]['orth']"
   ]
  },
  {
   "cell_type": "code",
   "execution_count": 10,
   "id": "ec458266",
   "metadata": {},
   "outputs": [],
   "source": [
    "input_texts = df_train['translation']\n",
    "target_texts = df_train['orth']"
   ]
  },
  {
   "cell_type": "code",
   "execution_count": null,
   "id": "76bcf5dc",
   "metadata": {},
   "outputs": [],
   "source": [
    "target_texts = [text.replace('-', ' - ') for text in target_texts]"
   ]
  },
  {
   "cell_type": "markdown",
   "id": "94f78816",
   "metadata": {},
   "source": [
    "dodati ovde primer"
   ]
  },
  {
   "cell_type": "code",
   "execution_count": 11,
   "id": "40a844b9",
   "metadata": {},
   "outputs": [],
   "source": [
    "umlaut_dict = {'AE': 'Ä',\n",
    "               'OE': 'Ö',\n",
    "               'UE': 'Ü'}\n",
    "for key in umlaut_dict.keys():\n",
    "    target_texts = [text.replace(key, umlaut_dict[key]) for text in target_texts]"
   ]
  },
  {
   "cell_type": "code",
   "execution_count": 13,
   "id": "7d9aeb19",
   "metadata": {},
   "outputs": [
    {
     "name": "stdout",
     "output_type": "stream",
     "text": [
      "Unique words:  2887 , Total words:  99081\n"
     ]
    }
   ],
   "source": [
    "d_input = {}\n",
    "for s in input_texts:\n",
    "    words = s.split(' ')\n",
    "    for w in words:\n",
    "        if w in d_input.keys():\n",
    "            d_input[w]+= 1\n",
    "        else:\n",
    "            d_input[w] = 1\n",
    "sd = sorted(d_input, key=d_input.get)\n",
    "sd.reverse()\n",
    "print(\"Unique words: \",len(sd),\", Total words: \",sum(d_input.values()))"
   ]
  },
  {
   "cell_type": "code",
   "execution_count": 15,
   "id": "92745fdc",
   "metadata": {},
   "outputs": [
    {
     "ename": "TypeError",
     "evalue": "bar() missing 1 required positional argument: 'height'",
     "output_type": "error",
     "traceback": [
      "\u001b[1;31m---------------------------------------------------------------------------\u001b[0m",
      "\u001b[1;31mTypeError\u001b[0m                                 Traceback (most recent call last)",
      "Cell \u001b[1;32mIn[15], line 1\u001b[0m\n\u001b[1;32m----> 1\u001b[0m \u001b[43mplt\u001b[49m\u001b[38;5;241;43m.\u001b[39;49m\u001b[43mbar\u001b[49m\u001b[43m(\u001b[49m\u001b[43msd\u001b[49m\u001b[43m)\u001b[49m\n",
      "\u001b[1;31mTypeError\u001b[0m: bar() missing 1 required positional argument: 'height'"
     ]
    }
   ],
   "source": [
    "for s in sd:\n",
    "    print(s, d_input[s])\n",
    "   \n",
    "plt.bar(s, d_input[s])"
   ]
  }
 ],
 "metadata": {
  "kernelspec": {
   "display_name": "Python 3 (ipykernel)",
   "language": "python",
   "name": "python3"
  },
  "language_info": {
   "codemirror_mode": {
    "name": "ipython",
    "version": 3
   },
   "file_extension": ".py",
   "mimetype": "text/x-python",
   "name": "python",
   "nbconvert_exporter": "python",
   "pygments_lexer": "ipython3",
   "version": "3.10.12"
  }
 },
 "nbformat": 4,
 "nbformat_minor": 5
}
